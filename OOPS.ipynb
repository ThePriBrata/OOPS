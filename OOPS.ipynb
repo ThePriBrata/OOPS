{
 "cells": [
  {
   "cell_type": "markdown",
   "id": "db69b1be-86e4-4f4a-9cca-d20607b3711c",
   "metadata": {},
   "source": [
    "# OOPS"
   ]
  },
  {
   "cell_type": "markdown",
   "id": "0b73f0dd-ff46-4243-b2ab-421765d46a73",
   "metadata": {},
   "source": [
    "01.What is Object-Oriented Programming (OOP)? \n",
    "    -> OOP is a programming paradigm that organizes code using objects and classes, enabling modularity, reusability, and abstraction.\n",
    "\n",
    "02.What is a class in OOP? \n",
    "    -> A class is a blueprint for creating objects. It defines the attributes (variables) and behaviors (methods) that the objects will have.\n",
    "\n",
    "03.What is an object in OOP?\n",
    "    -> An object is an instance of a class, containing data (attributes) and methods to perform specific actions.\n",
    "\n",
    "04.Difference between abstraction and encapsulation:\n",
    "\n",
    "    ->Abstraction: Hiding the complexity and showing only the essential details (e.g., using an interface or abstract class).\n",
    "    \n",
    "      Encapsulation: Wrapping data and methods into a single unit (class) and restricting access using access modifiers.\n",
    "\n",
    "05.What are dunder methods in Python?\n",
    "    ->Dunder (double underscore) methods like __init__, __str__, and __repr__ are special methods with predefined meanings to customize object behavior.\n",
    "\n",
    "06.Concept of inheritance in OOP:\n",
    "    -> Inheritance enables a class (child) to inherit attributes and methods from another class (parent), promoting code reuse.\n",
    "\n",
    "07.What is polymorphism in OOP? \n",
    "    -> Polymorphism allows objects to take multiple forms, enabling a single method or operator to perform differently based on the context (e.g., method overriding).\n",
    "\n",
    "08.How is encapsulation achieved in Python? \n",
    "    -> Encapsulation is achieved using private (_variable or __variable) and public members in classes to control access to data.\n",
    "\n",
    "09.What is a constructor in Python?\n",
    "    -> A constructor, defined as __init__, is a special method automatically called when an object is created, initializing its attributes.\n",
    "\n",
    "10.Class and static methods in Python:\n",
    "\n",
    "    -> Class methods: Use @classmethod and operate on the class, not instances. They take cls as the first argument.\n",
    "    \n",
    "       Static methods: Use @staticmethod and are independent of the class/instance. They are like regular functions within a class.\n",
    "\n",
    "11.What is method overloading in Python? \n",
    "    -> Python doesn't directly support method overloading, but different behaviors can be achieved by using optional/default arguments.\n",
    "\n",
    "12.What is method overriding in OOP? \n",
    "    -> When a child class redefines a method of its parent class, it is known as method overriding.\n",
    "\n",
    "13.What is a property decorator in Python? \n",
    "    -> The @property decorator is used to define getter methods that access a private attribute as if it were public.\n",
    "\n",
    "14.Why is polymorphism important in OOP? \n",
    "    -> Polymorphism enhances code flexibility and reusability by enabling methods to be used with different types of objects.\n",
    "\n",
    "15.What is an abstract class in Python? \n",
    "    -> An abstract class contains one or more abstract methods (defined using @abstractmethod) and cannot be instantiated directly.\n",
    "\n",
    "16.Advantages of OOP:\n",
    "\n",
    "    -> Modularity\n",
    "    \n",
    "       Code reusability\n",
    "    \n",
    "       Abstraction\n",
    "    \n",
    "       Scalability\n",
    "    \n",
    "       Maintainability\n",
    "\n",
    "17.What is multiple inheritance in Python?\n",
    "    -> Multiple inheritance allows a class to inherit from multiple parent classes.\n",
    "\n",
    "18.Difference between class variable and instance variable:\n",
    "\n",
    "    -> Class variable: Shared by all instances of a class.\n",
    "    \n",
    "       Instance variable: Unique to each instance.\n",
    "\n",
    "19.Purpose of __str__ and __repr__ methods in Python:\n",
    "\n",
    "   -> __str__: Returns a human-readable representation of an object.\n",
    "    \n",
    "     __repr__: Returns an unambiguous representation, often for debugging.\n",
    "\n",
    "20.Significance of the super() function in Python:\n",
    "    -> It allows a child class to access methods and attributes of its parent class.\n",
    "\n",
    "21.Significance of the __del__ method in Python: \n",
    "    -> It is a destructor method invoked when an object is garbage-collected, used to release resources.\n",
    "\n",
    "22.Difference between @staticmethod and @classmethod:\n",
    "\n",
    "    -> @staticmethod: Does not access or modify class state.\n",
    "    \n",
    "       @classmethod: Operates on class-level data using cls.\n",
    "\n",
    "23.How does polymorphism work in Python with inheritance?\n",
    "    -> Polymorphism allows child classes to redefine parent methods, letting objects of different classes respond to the same method call differently.\n",
    "\n",
    "24.What is method chaining in Python OOP? \n",
    "    -> Method chaining involves calling multiple methods on the same object in a single statement.\n",
    "\n",
    "25.Purpose of the __call__ method in Python: \n",
    "    -> It makes an object callable like a function, enabling customization of function-like behavior."
   ]
  },
  {
   "cell_type": "code",
   "execution_count": 15,
   "id": "102f0115-2368-4d19-a970-08f2f1a28e90",
   "metadata": {},
   "outputs": [
    {
     "name": "stdout",
     "output_type": "stream",
     "text": [
      "Animal speaks\n",
      "Bark!\n"
     ]
    }
   ],
   "source": [
    "# 1. Create a parent class Animal with a method speak() that prints a generic message. Create a child class Dog\n",
    "class Animal:\n",
    "    def speak(self):\n",
    "        print(\"Animal speaks\")\n",
    "\n",
    "class Dog(Animal):\n",
    "    def speak(self):\n",
    "        print(\"Bark!\")\n",
    "\n",
    "#Example usage:\n",
    "animal_speaks = Animal()\n",
    "animal_speaks.speak()\n",
    "\n",
    "dog = Dog()\n",
    "dog.speak()"
   ]
  },
  {
   "cell_type": "code",
   "execution_count": 16,
   "id": "bec5a420-8100-42c5-bbf8-06541972676b",
   "metadata": {},
   "outputs": [
    {
     "name": "stdout",
     "output_type": "stream",
     "text": [
      "Area of Circle: 78.5\n",
      "Area of Rectangle: 24\n"
     ]
    }
   ],
   "source": [
    "#02. Write a program to create an abstract class Shape with a method area(). Derive classes Circle and Rectangle from it and implement the area() method in both.\n",
    "from abc import ABC, abstractmethod\n",
    "\n",
    "class Shape(ABC):\n",
    "    @abstractmethod\n",
    "    def area(self):\n",
    "        pass\n",
    "\n",
    "class Circle(Shape):\n",
    "    def __init__(self, radius):\n",
    "        self.radius = radius\n",
    "\n",
    "    def area(self):\n",
    "        return 3.14 * self.radius * self.radius\n",
    "\n",
    "class Rectangle(Shape):\n",
    "    def __init__(self, length, width):\n",
    "        self.length = length\n",
    "        self.width = width\n",
    "\n",
    "    def area(self):\n",
    "        return self.length * self.width\n",
    "\n",
    "# Example usage\n",
    "circle = Circle(5)  # Circle with radius 5\n",
    "print(f\"Area of Circle: {circle.area()}\")\n",
    "\n",
    "rectangle = Rectangle(4, 6)  # Rectangle with length 4 and width 6\n",
    "print(f\"Area of Rectangle: {rectangle.area()}\")"
   ]
  },
  {
   "cell_type": "code",
   "execution_count": 17,
   "id": "208242e8-9be3-4ba3-a3be-df7f5e233fba",
   "metadata": {},
   "outputs": [
    {
     "name": "stdout",
     "output_type": "stream",
     "text": [
      "Type: Electric Vehicle\n",
      "Brand: Tesla\n",
      "Battery Capacity: 75 kWh\n"
     ]
    }
   ],
   "source": [
    "#03.Implement a multi-level inheritance scenario where a class Vehicle has an attribute type. Derive a class Car and further derive a class ElectricCar that adds a battery attribute.\n",
    "# Base class\n",
    "class Vehicle:\n",
    "    def __init__(self, vehicle_type):\n",
    "        self.type = vehicle_type\n",
    "\n",
    "# Intermediate class\n",
    "class Car(Vehicle):\n",
    "    def __init__(self, vehicle_type, brand):\n",
    "        super().__init__(vehicle_type)\n",
    "        self.brand = brand\n",
    "\n",
    "# Derived class\n",
    "class ElectricCar(Car):\n",
    "    def __init__(self, vehicle_type, brand, battery_capacity):\n",
    "        super().__init__(vehicle_type, brand)\n",
    "        self.battery = battery_capacity\n",
    "\n",
    "# Example usage\n",
    "electric_car = ElectricCar(\"Electric Vehicle\", \"Tesla\", \"75 kWh\")\n",
    "print(f\"Type: {electric_car.type}\")\n",
    "print(f\"Brand: {electric_car.brand}\")\n",
    "print(f\"Battery Capacity: {electric_car.battery}\")\n",
    "\n"
   ]
  },
  {
   "cell_type": "code",
   "execution_count": 18,
   "id": "5d27752f-3712-42c9-85c2-746051e07412",
   "metadata": {},
   "outputs": [
    {
     "name": "stdout",
     "output_type": "stream",
     "text": [
      "Most birds can fly.\n",
      "Sparrow flies high in the sky!\n",
      "Penguins cannot fly, but they swim very well!\n"
     ]
    }
   ],
   "source": [
    "#04.Demonstrate polymorphism by creating a base class Bird with a method fly(). Create two derived classes Sparrow and Penguin that override the fly() method. \n",
    "# Base class\n",
    "class Bird:\n",
    "    def fly(self):\n",
    "        print(\"Most birds can fly.\")\n",
    "\n",
    "# Derived class: Sparrow\n",
    "class Sparrow(Bird):\n",
    "    def fly(self):\n",
    "        print(\"Sparrow flies high in the sky!\")\n",
    "\n",
    "# Derived class: Penguin\n",
    "class Penguin(Bird):\n",
    "    def fly(self):\n",
    "        print(\"Penguins cannot fly, but they swim very well!\")\n",
    "\n",
    "# Example usage\n",
    "bird = Bird()\n",
    "bird.fly()  # Output: Most birds can fly.\n",
    "\n",
    "sparrow = Sparrow()\n",
    "sparrow.fly()  # Output: Sparrow flies high in the sky!\n",
    "\n",
    "penguin = Penguin()\n",
    "penguin.fly()  # Output: Penguins cannot fly, but they swim very well!\n",
    "\n"
   ]
  },
  {
   "cell_type": "code",
   "execution_count": 19,
   "id": "9bc1ddbf-13be-42a8-816c-a7a7ed231ec4",
   "metadata": {},
   "outputs": [
    {
     "name": "stdout",
     "output_type": "stream",
     "text": [
      "Deposited: 200\n",
      "Withdrawn: 100\n",
      "Current Balance: 600\n",
      "Insufficient balance.\n",
      "Deposit amount must be positive.\n"
     ]
    }
   ],
   "source": [
    "#05. Write a program to demonstrate encapsulation by creating a class BankAccount with private attributes balance and methods to deposit, withdraw, and check balance.\n",
    "class BankAccount:\n",
    "    def __init__(self, initial_balance=0):\n",
    "        # Private attribute to store the balance\n",
    "        self.__balance = initial_balance\n",
    "\n",
    "    # Method to deposit money\n",
    "    def deposit(self, amount):\n",
    "        if amount > 0:\n",
    "            self.__balance += amount\n",
    "            print(f\"Deposited: {amount}\")\n",
    "        else:\n",
    "            print(\"Deposit amount must be positive.\")\n",
    "\n",
    "    # Method to withdraw money\n",
    "    def withdraw(self, amount):\n",
    "        if amount > 0:\n",
    "            if amount <= self.__balance:\n",
    "                self.__balance -= amount\n",
    "                print(f\"Withdrawn: {amount}\")\n",
    "            else:\n",
    "                print(\"Insufficient balance.\")\n",
    "        else:\n",
    "            print(\"Withdrawal amount must be positive.\")\n",
    "\n",
    "    # Method to check balance\n",
    "    def check_balance(self):\n",
    "        return self.__balance\n",
    "\n",
    "# Example usage\n",
    "account = BankAccount(500)  # Initializing account with an initial balance of 500\n",
    "\n",
    "# Making transactions\n",
    "account.deposit(200)        # Deposit 200\n",
    "account.withdraw(100)       # Withdraw 100\n",
    "print(f\"Current Balance: {account.check_balance()}\")  # Check balance\n",
    "\n",
    "# Attempting invalid transactions\n",
    "account.withdraw(1000)      # Try to withdraw more than available\n",
    "account.deposit(-50)        # Try to deposit a negative amount\n",
    "\n"
   ]
  },
  {
   "cell_type": "code",
   "execution_count": 20,
   "id": "b30c18fe-cc86-4e75-8750-e8f46f0a8bb0",
   "metadata": {},
   "outputs": [
    {
     "name": "stdout",
     "output_type": "stream",
     "text": [
      "An instrument is being played.\n",
      "Strumming the guitar!\n",
      "Playing the piano!\n"
     ]
    }
   ],
   "source": [
    "#06. Demonstrate runtime polymorphism using a method play() in a base class Instrument. Derive classes Guitar and Piano that implement their own version of play().\n",
    "# Base class\n",
    "class Instrument:\n",
    "    def play(self):\n",
    "        print(\"An instrument is being played.\")\n",
    "\n",
    "# Derived class: Guitar\n",
    "class Guitar(Instrument):\n",
    "    def play(self):\n",
    "        print(\"Strumming the guitar!\")\n",
    "\n",
    "# Derived class: Piano\n",
    "class Piano(Instrument):\n",
    "    def play(self):\n",
    "        print(\"Playing the piano!\")\n",
    "\n",
    "# Example usage\n",
    "def perform(instrument):\n",
    "    instrument.play()\n",
    "\n",
    "# Create instances\n",
    "instrument = Instrument()\n",
    "guitar = Guitar()\n",
    "piano = Piano()\n",
    "\n",
    "# Demonstrating runtime polymorphism\n",
    "perform(instrument)  # Output: An instrument is being played.\n",
    "perform(guitar)      # Output: Strumming the guitar!\n",
    "perform(piano)       # Output: Playing the piano!\n",
    "\n",
    "\n"
   ]
  },
  {
   "cell_type": "code",
   "execution_count": 12,
   "id": "f0356b00-8615-48c0-a572-e69bc03c43da",
   "metadata": {},
   "outputs": [
    {
     "name": "stdout",
     "output_type": "stream",
     "text": [
      "Addition result: 15\n",
      "Subtraction result: 5\n"
     ]
    }
   ],
   "source": [
    "#07.Create a class MathOperations with a class method add_numbers() to add two numbers and a static method subtract_numbers() to subtract two numbers.\n",
    "class MathOperations:\n",
    "    @classmethod\n",
    "    def add_numbers(cls, num1, num2):\n",
    "        return num1 + num2\n",
    "\n",
    "    @staticmethod\n",
    "    def subtract_numbers(num1, num2):\n",
    "        return num1 - num2\n",
    "\n",
    "# Example usage:\n",
    "# Using the class method\n",
    "result_add = MathOperations.add_numbers(10, 5)\n",
    "print(f\"Addition result: {result_add}\")\n",
    "\n",
    "# Using the static method\n",
    "result_subtract = MathOperations.subtract_numbers(10, 5)\n",
    "print(f\"Subtraction result: {result_subtract}\")\n",
    "\n"
   ]
  },
  {
   "cell_type": "code",
   "execution_count": 21,
   "id": "eb832a7a-aa22-48e6-81f2-cf5f1834d07d",
   "metadata": {},
   "outputs": [
    {
     "name": "stdout",
     "output_type": "stream",
     "text": [
      "Total number of persons created: 3\n"
     ]
    }
   ],
   "source": [
    "#08.Implement a class Person with a class method to count the total number of persons created.\n",
    "class Person:\n",
    "    # Class variable to count the number of persons\n",
    "    person_count = 0\n",
    "\n",
    "    def __init__(self, name):\n",
    "        self.name = name\n",
    "        # Increment the counter whenever a new person is created\n",
    "        Person.person_count += 1\n",
    "\n",
    "    @classmethod\n",
    "    def total_persons(cls):\n",
    "        return f\"Total number of persons created: {cls.person_count}\"\n",
    "\n",
    "# Example usage:\n",
    "person1 = Person(\"Alice\")\n",
    "person2 = Person(\"Bob\")\n",
    "person3 = Person(\"Charlie\")\n",
    "\n",
    "# Accessing the class method\n",
    "print(Person.total_persons())  # Output: Total number of persons created: 3\n"
   ]
  },
  {
   "cell_type": "code",
   "execution_count": 22,
   "id": "76856a7a-ebe1-4db6-9d8c-feb592782f2a",
   "metadata": {},
   "outputs": [
    {
     "name": "stdout",
     "output_type": "stream",
     "text": [
      "3/4\n"
     ]
    }
   ],
   "source": [
    "# 09. Write a class Fraction with attributes numerator and denominator. Override the str method to display the fraction as \"numerator/denominator\".\n",
    "class Fraction:\n",
    "    def __init__(self, numerator, denominator):\n",
    "        self.numerator = numerator\n",
    "        self.denominator = denominator\n",
    "\n",
    "    def __str__(self):\n",
    "        return f\"{self.numerator}/{self.denominator}\"\n",
    "\n",
    "# Example usage:\n",
    "fraction = Fraction(3, 4)\n",
    "print(fraction)  # Output: 3/4\n"
   ]
  },
  {
   "cell_type": "code",
   "execution_count": 24,
   "id": "a5812b9c-5115-42eb-956c-3fe8eb29af08",
   "metadata": {},
   "outputs": [
    {
     "name": "stdout",
     "output_type": "stream",
     "text": [
      "Resultant Vector: (6, 8)\n"
     ]
    }
   ],
   "source": [
    "#10.Demonstrate operator overloading by creating a class Vector and overriding the add method to add two vectors.\n",
    "class Vector:\n",
    "    def __init__(self, x, y):\n",
    "        self.x = x\n",
    "        self.y = y\n",
    "\n",
    "    def __add__(self, other):\n",
    "        if isinstance(other, Vector):\n",
    "            return Vector(self.x + other.x, self.y + other.y)\n",
    "        raise TypeError(\"Operand must be an instance of Vector\")\n",
    "\n",
    "    def __str__(self):\n",
    "        return f\"({self.x}, {self.y})\"\n",
    "\n",
    "# Example usage\n",
    "vector1 = Vector(2, 3)\n",
    "vector2 = Vector(4, 5)\n",
    "\n",
    "result = vector1 + vector2  # Calls the __add__ method\n",
    "print(f\"Resultant Vector: {result}\")  # Output: (6, 8)\n"
   ]
  },
  {
   "cell_type": "code",
   "execution_count": 25,
   "id": "17f7056a-51f8-4a4b-899b-3cdf1d6f6194",
   "metadata": {},
   "outputs": [
    {
     "name": "stdout",
     "output_type": "stream",
     "text": [
      "Hello, my name is John and I am 25 years old.\n"
     ]
    }
   ],
   "source": [
    "#11.Create a class Person with attributes name and age. Add a method greet() that prints \"Hello, my name is {name} and I am {age} years old.\"\n",
    "class Person:\n",
    "    def __init__(self, name, age):\n",
    "        self.name = name\n",
    "        self.age = age\n",
    "\n",
    "    def greet(self):\n",
    "        print(f\"Hello, my name is {self.name} and I am {self.age} years old.\")\n",
    "\n",
    "# Example usage:\n",
    "person = Person(\"John\", 25)\n",
    "person.greet()  # Output: Hello, my name is John and I am 25 years old.\n"
   ]
  },
  {
   "cell_type": "code",
   "execution_count": 26,
   "id": "7b4fee58-5a56-4c65-9e87-01865d881d09",
   "metadata": {},
   "outputs": [
    {
     "name": "stdout",
     "output_type": "stream",
     "text": [
      "Alice's average grade: 86.6\n"
     ]
    }
   ],
   "source": [
    "#12.Implement a class Student with attributes name and grades. Create a method average_grade() to compute the average of the grades.\n",
    "class Student:\n",
    "    def __init__(self, name, grades):\n",
    "        self.name = name\n",
    "        self.grades = grades  # A list of grades\n",
    "\n",
    "    def average_grade(self):\n",
    "        if len(self.grades) == 0:\n",
    "            return 0  # Avoid division by zero\n",
    "        return sum(self.grades) / len(self.grades)\n",
    "\n",
    "# Example usage:\n",
    "student = Student(\"Alice\", [85, 90, 78, 92, 88])\n",
    "print(f\"{student.name}'s average grade: {student.average_grade()}\")  # Output: 86.6\n"
   ]
  },
  {
   "cell_type": "code",
   "execution_count": 27,
   "id": "9eb62bf6-7b62-4bd2-83ea-6cf0ca2231a9",
   "metadata": {},
   "outputs": [
    {
     "name": "stdout",
     "output_type": "stream",
     "text": [
      "Area of the rectangle: 15\n"
     ]
    }
   ],
   "source": [
    "# 13. Create a class Rectangle with methods set_dimensions() to set the dimensions and area() to calculate the area.\n",
    "class Rectangle:\n",
    "    def __init__(self):\n",
    "        self.length = 0\n",
    "        self.width = 0\n",
    "\n",
    "    def set_dimensions(self, length, width):\n",
    "        self.length = length\n",
    "        self.width = width\n",
    "\n",
    "    def area(self):\n",
    "        return self.length * self.width\n",
    "\n",
    "# Example usage:\n",
    "rectangle = Rectangle()\n",
    "rectangle.set_dimensions(5, 3)  # Setting length as 5 and width as 3\n",
    "print(f\"Area of the rectangle: {rectangle.area()}\")  # Output: 15\n"
   ]
  },
  {
   "cell_type": "code",
   "execution_count": 28,
   "id": "bf7b4ce9-c17f-4c91-8f3e-98ded2f23fcd",
   "metadata": {},
   "outputs": [
    {
     "name": "stdout",
     "output_type": "stream",
     "text": [
      "John's Salary: 800\n",
      "Alice's Salary: 1700\n"
     ]
    }
   ],
   "source": [
    "#14. Create a class Employee with a method calculate_salary() that computes the salary based on hours worked and hourly rate. Create a derived class Manager that adds a bonus to the salary.\n",
    "class Employee:\n",
    "    def __init__(self, name, hourly_rate):\n",
    "        self.name = name\n",
    "        self.hourly_rate = hourly_rate\n",
    "\n",
    "    def calculate_salary(self, hours_worked):\n",
    "        return self.hourly_rate * hours_worked\n",
    "\n",
    "class Manager(Employee):\n",
    "    def __init__(self, name, hourly_rate, bonus):\n",
    "        super().__init__(name, hourly_rate)\n",
    "        self.bonus = bonus\n",
    "\n",
    "    def calculate_salary(self, hours_worked):\n",
    "        base_salary = super().calculate_salary(hours_worked)\n",
    "        return base_salary + self.bonus\n",
    "\n",
    "# Example usage\n",
    "employee = Employee(\"John\", 20)  # Employee with hourly rate $20\n",
    "print(f\"{employee.name}'s Salary: {employee.calculate_salary(40)}\")  # 40 hours worked\n",
    "\n",
    "manager = Manager(\"Alice\", 30, 500)  # Manager with hourly rate $30 and $500 bonus\n",
    "print(f\"{manager.name}'s Salary: {manager.calculate_salary(40)}\")  # 40 hours worked\n"
   ]
  },
  {
   "cell_type": "code",
   "execution_count": 29,
   "id": "5a95f272-35b2-4901-a8fe-e39a86f66ff1",
   "metadata": {},
   "outputs": [
    {
     "name": "stdout",
     "output_type": "stream",
     "text": [
      "Total price of Laptop: 100000\n"
     ]
    }
   ],
   "source": [
    "#15. Create a class Product with attributes name, price, and quantity. Implement a method total_price() that calculates the total price of the product.\n",
    "class Product:\n",
    "    def __init__(self, name, price, quantity):\n",
    "        self.name = name\n",
    "        self.price = price\n",
    "        self.quantity = quantity\n",
    "\n",
    "    def total_price(self):\n",
    "        return self.price * self.quantity\n",
    "\n",
    "# Example usage:\n",
    "product = Product(\"Laptop\", 50000, 2)  # Creating a product with name \"Laptop\", price 50000, and quantity 2\n",
    "print(f\"Total price of {product.name}: {product.total_price()}\")  # Output: Total price of Laptop: 100000\n"
   ]
  },
  {
   "cell_type": "code",
   "execution_count": 30,
   "id": "850e2f41-b996-40ad-80c2-54a95e53193c",
   "metadata": {},
   "outputs": [
    {
     "name": "stdout",
     "output_type": "stream",
     "text": [
      "A cow goes: Moo\n",
      "A sheep goes: Baa\n"
     ]
    }
   ],
   "source": [
    "#16.Create a class Animal with an abstract method sound(). Create two derived classes Cow and Sheep that implement the sound() method.\n",
    "from abc import ABC, abstractmethod\n",
    "\n",
    "# Base abstract class\n",
    "class Animal(ABC):\n",
    "    @abstractmethod\n",
    "    def sound(self):\n",
    "        pass\n",
    "\n",
    "# Derived class: Cow\n",
    "class Cow(Animal):\n",
    "    def sound(self):\n",
    "        return \"Moo\"\n",
    "\n",
    "# Derived class: Sheep\n",
    "class Sheep(Animal):\n",
    "    def sound(self):\n",
    "        return \"Baa\"\n",
    "\n",
    "# Example usage\n",
    "cow = Cow()\n",
    "sheep = Sheep()\n",
    "\n",
    "print(f\"A cow goes: {cow.sound()}\")  # Output: A cow goes: Moo\n",
    "print(f\"A sheep goes: {sheep.sound()}\")  # Output: A sheep goes: Baa\n"
   ]
  },
  {
   "cell_type": "code",
   "execution_count": 31,
   "id": "6a8644a7-62c9-42b7-b3cb-20b695116401",
   "metadata": {},
   "outputs": [
    {
     "name": "stdout",
     "output_type": "stream",
     "text": [
      "'To Kill a Mockingbird' by Harper Lee, published in 1960.\n"
     ]
    }
   ],
   "source": [
    "#17.Create a class Book with attributes title, author, and year_published. Add a method get_book_info() that returns a formatted string with the book's details.\n",
    "class Book:\n",
    "    def __init__(self, title, author, year_published):\n",
    "        self.title = title\n",
    "        self.author = author\n",
    "        self.year_published = year_published\n",
    "\n",
    "    def get_book_info(self):\n",
    "        return f\"'{self.title}' by {self.author}, published in {self.year_published}.\"\n",
    "\n",
    "# Example usage:\n",
    "book = Book(\"To Kill a Mockingbird\", \"Harper Lee\", 1960)\n",
    "print(book.get_book_info())  # Output: 'To Kill a Mockingbird' by Harper Lee, published in 1960.\n"
   ]
  },
  {
   "cell_type": "code",
   "execution_count": 32,
   "id": "94c969de-cfb2-433a-a5b4-58996cad630a",
   "metadata": {},
   "outputs": [
    {
     "name": "stdout",
     "output_type": "stream",
     "text": [
      "House Address: 123 Main Street, Price: 500000\n",
      "Mansion Address: 456 Luxury Lane, Price: 2000000, Number of Rooms: 10\n"
     ]
    }
   ],
   "source": [
    "#18.Create a class House with attributes address and price. Create a derived class Mansion that adds an attribute number_of_rooms\n",
    "# Base class\n",
    "class House:\n",
    "    def __init__(self, address, price):\n",
    "        self.address = address\n",
    "        self.price = price\n",
    "\n",
    "# Derived class\n",
    "class Mansion(House):\n",
    "    def __init__(self, address, price, number_of_rooms):\n",
    "        super().__init__(address, price)\n",
    "        self.number_of_rooms = number_of_rooms\n",
    "\n",
    "# Example usage:\n",
    "house = House(\"123 Main Street\", 500000)\n",
    "print(f\"House Address: {house.address}, Price: {house.price}\")\n",
    "\n",
    "mansion = Mansion(\"456 Luxury Lane\", 2000000, 10)\n",
    "print(f\"Mansion Address: {mansion.address}, Price: {mansion.price}, Number of Rooms: {mansion.number_of_rooms}\")\n"
   ]
  }
 ],
 "metadata": {
  "kernelspec": {
   "display_name": "Python 3 (ipykernel)",
   "language": "python",
   "name": "python3"
  },
  "language_info": {
   "codemirror_mode": {
    "name": "ipython",
    "version": 3
   },
   "file_extension": ".py",
   "mimetype": "text/x-python",
   "name": "python",
   "nbconvert_exporter": "python",
   "pygments_lexer": "ipython3",
   "version": "3.12.7"
  }
 },
 "nbformat": 4,
 "nbformat_minor": 5
}
